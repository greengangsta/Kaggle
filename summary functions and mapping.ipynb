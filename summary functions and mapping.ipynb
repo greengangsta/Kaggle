{
  "cells": [
    {
      "metadata": {
        "_uuid": "d1ce823cdcf2951111bcd8f703577ed8be6bd08a"
      },
      "cell_type": "markdown",
      "source": "**[Pandas Course Home Page](https://www.kaggle.com/learn/pandas)**\n\n---\n"
    },
    {
      "metadata": {
        "_uuid": "8ef50418dffb1675a798976b95fe67186ead1dea"
      },
      "cell_type": "markdown",
      "source": "# Summary functions and maps workbook\n\n## Introduction\n\nThis is the workbook component to the \"Summary functions and maps\" section of the Advanced Pandas tutorial. For the reference section, [**click here**](https://www.kaggle.com/residentmario/summary-functions-and-maps-reference).\n\nIn the last section we learned how to select relevant data out of our `pandas` `DataFrame` and `Series` objects. Plucking the right data out of our data representation is critical to getting work done, as we demonstrated in the visualization exercises attached to the workbook.\n\nHowever, the data does not always come out of memory in the format we want it in right out of the bat. Sometimes we have to do some more work ourselves to reformat it for the task at hand.\n\nThe remainder of this tutorial will cover different operations we can apply to our data to get the input \"just right\". We'll start off in this section by looking at the most commonly looked built-in reshaping operations. Along the way we'll cover data `dtypes`, a concept essential to working with `pandas` effectively."
    },
    {
      "metadata": {
        "trusted": true,
        "_uuid": "539bcb80bc357d048c83254a2738504bc95b00c1"
      },
      "cell_type": "code",
      "source": "import pandas as pd\npd.set_option(\"display.max_rows\", 5)\nreviews = pd.read_csv(\"../input/wine-reviews/winemag-data-130k-v2.csv\", index_col=0)\n\nfrom learntools.core import binder; binder.bind(globals())\nfrom learntools.pandas.summary_functions_and_maps import *\nprint(\"Setup complete.\")\n\nreviews.head()",
      "execution_count": 27,
      "outputs": [
        {
          "output_type": "stream",
          "text": "WARNING:root:Ignoring repeated attempt to bind to globals\n",
          "name": "stderr"
        },
        {
          "output_type": "stream",
          "text": "Setup complete.\n",
          "name": "stdout"
        },
        {
          "output_type": "execute_result",
          "execution_count": 27,
          "data": {
            "text/plain": "    country         ...                        winery\n0     Italy         ...                       Nicosia\n1  Portugal         ...           Quinta dos Avidagos\n2        US         ...                     Rainstorm\n3        US         ...                    St. Julian\n4        US         ...                  Sweet Cheeks\n\n[5 rows x 13 columns]",
            "text/html": "<div>\n<style scoped>\n    .dataframe tbody tr th:only-of-type {\n        vertical-align: middle;\n    }\n\n    .dataframe tbody tr th {\n        vertical-align: top;\n    }\n\n    .dataframe thead th {\n        text-align: right;\n    }\n</style>\n<table border=\"1\" class=\"dataframe\">\n  <thead>\n    <tr style=\"text-align: right;\">\n      <th></th>\n      <th>country</th>\n      <th>description</th>\n      <th>designation</th>\n      <th>points</th>\n      <th>price</th>\n      <th>province</th>\n      <th>region_1</th>\n      <th>region_2</th>\n      <th>taster_name</th>\n      <th>taster_twitter_handle</th>\n      <th>title</th>\n      <th>variety</th>\n      <th>winery</th>\n    </tr>\n  </thead>\n  <tbody>\n    <tr>\n      <th>0</th>\n      <td>Italy</td>\n      <td>Aromas include tropical fruit, broom, brimston...</td>\n      <td>Vulkà Bianco</td>\n      <td>87</td>\n      <td>NaN</td>\n      <td>Sicily &amp; Sardinia</td>\n      <td>Etna</td>\n      <td>NaN</td>\n      <td>Kerin O’Keefe</td>\n      <td>@kerinokeefe</td>\n      <td>Nicosia 2013 Vulkà Bianco  (Etna)</td>\n      <td>White Blend</td>\n      <td>Nicosia</td>\n    </tr>\n    <tr>\n      <th>1</th>\n      <td>Portugal</td>\n      <td>This is ripe and fruity, a wine that is smooth...</td>\n      <td>Avidagos</td>\n      <td>87</td>\n      <td>15.0</td>\n      <td>Douro</td>\n      <td>NaN</td>\n      <td>NaN</td>\n      <td>Roger Voss</td>\n      <td>@vossroger</td>\n      <td>Quinta dos Avidagos 2011 Avidagos Red (Douro)</td>\n      <td>Portuguese Red</td>\n      <td>Quinta dos Avidagos</td>\n    </tr>\n    <tr>\n      <th>2</th>\n      <td>US</td>\n      <td>Tart and snappy, the flavors of lime flesh and...</td>\n      <td>NaN</td>\n      <td>87</td>\n      <td>14.0</td>\n      <td>Oregon</td>\n      <td>Willamette Valley</td>\n      <td>Willamette Valley</td>\n      <td>Paul Gregutt</td>\n      <td>@paulgwine</td>\n      <td>Rainstorm 2013 Pinot Gris (Willamette Valley)</td>\n      <td>Pinot Gris</td>\n      <td>Rainstorm</td>\n    </tr>\n    <tr>\n      <th>3</th>\n      <td>US</td>\n      <td>Pineapple rind, lemon pith and orange blossom ...</td>\n      <td>Reserve Late Harvest</td>\n      <td>87</td>\n      <td>13.0</td>\n      <td>Michigan</td>\n      <td>Lake Michigan Shore</td>\n      <td>NaN</td>\n      <td>Alexander Peartree</td>\n      <td>NaN</td>\n      <td>St. Julian 2013 Reserve Late Harvest Riesling ...</td>\n      <td>Riesling</td>\n      <td>St. Julian</td>\n    </tr>\n    <tr>\n      <th>4</th>\n      <td>US</td>\n      <td>Much like the regular bottling from 2012, this...</td>\n      <td>Vintner's Reserve Wild Child Block</td>\n      <td>87</td>\n      <td>65.0</td>\n      <td>Oregon</td>\n      <td>Willamette Valley</td>\n      <td>Willamette Valley</td>\n      <td>Paul Gregutt</td>\n      <td>@paulgwine</td>\n      <td>Sweet Cheeks 2012 Vintner's Reserve Wild Child...</td>\n      <td>Pinot Noir</td>\n      <td>Sweet Cheeks</td>\n    </tr>\n  </tbody>\n</table>\n</div>"
          },
          "metadata": {}
        }
      ]
    },
    {
      "metadata": {
        "_uuid": "f464ac5992d551d9478b33d9787517c2d5b0b8d9"
      },
      "cell_type": "markdown",
      "source": "## Exercises"
    },
    {
      "metadata": {
        "_uuid": "73a00bb93fcb19f22cdc4f03184053b42424a2e7"
      },
      "cell_type": "markdown",
      "source": "## 1.\n\nWhat is the median of the `points` column in the `reviews` DataFrame?"
    },
    {
      "metadata": {
        "trusted": true,
        "_uuid": "58552f6fdc14ddd59d3b734792e85e02ceaa979d"
      },
      "cell_type": "code",
      "source": "median_points = reviews.points.median()\n\nq1.check()",
      "execution_count": 28,
      "outputs": [
        {
          "output_type": "display_data",
          "data": {
            "text/plain": "<IPython.core.display.Javascript object>",
            "application/javascript": "parent.postMessage({\"jupyterEvent\": \"custom.exercise_interaction\", \"data\": {\"outcomeType\": 1, \"valueTowardsCompletion\": 0.14285714285714285, \"interactionType\": 1, \"learnTutorialId\": 47, \"questionId\": \"1_MedianPoints\", \"learnToolsVersion\": \"0.2.10\", \"failureMessage\": \"\", \"exceptionClass\": \"\", \"trace\": \"\"}}, \"*\")"
          },
          "metadata": {}
        },
        {
          "output_type": "display_data",
          "data": {
            "text/plain": "Correct",
            "text/markdown": "<span style=\"color:#33cc33\">Correct</span>"
          },
          "metadata": {}
        }
      ]
    },
    {
      "metadata": {
        "trusted": true,
        "_uuid": "9ff5c72c6ad2a4beca890a0d9814c7f4cf549d83"
      },
      "cell_type": "code",
      "source": "#q1.hint()\n#q1.solution()",
      "execution_count": 29,
      "outputs": []
    },
    {
      "metadata": {
        "_uuid": "65a74f8a475ce752710cddc31378a4a9342e07a0"
      },
      "cell_type": "markdown",
      "source": "## 2. \nWhat countries are represented in the dataset? (Your answer should not include any duplicates.)"
    },
    {
      "metadata": {
        "trusted": true,
        "_uuid": "357ab35b394082297a82ac0530a9da335cf3c021"
      },
      "cell_type": "code",
      "source": "countries = reviews.country.unique()\n\nq2.check()",
      "execution_count": 30,
      "outputs": [
        {
          "output_type": "display_data",
          "data": {
            "text/plain": "<IPython.core.display.Javascript object>",
            "application/javascript": "parent.postMessage({\"jupyterEvent\": \"custom.exercise_interaction\", \"data\": {\"outcomeType\": 1, \"valueTowardsCompletion\": 0.14285714285714285, \"interactionType\": 1, \"learnTutorialId\": 47, \"questionId\": \"2_UniqueCountries\", \"learnToolsVersion\": \"0.2.10\", \"failureMessage\": \"\", \"exceptionClass\": \"\", \"trace\": \"\"}}, \"*\")"
          },
          "metadata": {}
        },
        {
          "output_type": "display_data",
          "data": {
            "text/plain": "Correct",
            "text/markdown": "<span style=\"color:#33cc33\">Correct</span>"
          },
          "metadata": {}
        }
      ]
    },
    {
      "metadata": {
        "trusted": true,
        "_uuid": "54c218f32b17114d68f9de0a984736290b46f0f1"
      },
      "cell_type": "code",
      "source": "#q2.hint()\n#q2.solution()",
      "execution_count": 31,
      "outputs": []
    },
    {
      "metadata": {
        "_uuid": "bcf24cee65bce97fa4251d693dd3df33f2e779d4"
      },
      "cell_type": "markdown",
      "source": "## 3.\nHow often does each country appear in the dataset? Create a Series `reviews_per_country` mapping countries to the count of reviews of wines from that country."
    },
    {
      "metadata": {
        "trusted": true,
        "_uuid": "a289bbfdda3812af2ca04079b936f2592716aa9d"
      },
      "cell_type": "code",
      "source": "reviews_per_country = reviews.country.value_counts()\n\nq3.check()",
      "execution_count": 32,
      "outputs": [
        {
          "output_type": "display_data",
          "data": {
            "text/plain": "<IPython.core.display.Javascript object>",
            "application/javascript": "parent.postMessage({\"jupyterEvent\": \"custom.exercise_interaction\", \"data\": {\"outcomeType\": 1, \"valueTowardsCompletion\": 0.14285714285714285, \"interactionType\": 1, \"learnTutorialId\": 47, \"questionId\": \"3_ReviewsPerCountry\", \"learnToolsVersion\": \"0.2.10\", \"failureMessage\": \"\", \"exceptionClass\": \"\", \"trace\": \"\"}}, \"*\")"
          },
          "metadata": {}
        },
        {
          "output_type": "display_data",
          "data": {
            "text/plain": "Correct",
            "text/markdown": "<span style=\"color:#33cc33\">Correct</span>"
          },
          "metadata": {}
        }
      ]
    },
    {
      "metadata": {
        "trusted": true,
        "_uuid": "a447d9a8c082b8cb555ff7f463b31acede0214f4"
      },
      "cell_type": "code",
      "source": "#q3.hint()\n#q3.solution()",
      "execution_count": 33,
      "outputs": []
    },
    {
      "metadata": {
        "_uuid": "ac56120c54c41f522197628425da16d773ad4461"
      },
      "cell_type": "markdown",
      "source": "## 4.\nCreate variable `centered_price` containing a version of the `price` column with the mean price subtracted.\n\n(Note: this 'centering' transformation is a common preprocessing step before applying various machine learning algorithms.) "
    },
    {
      "metadata": {
        "trusted": true,
        "_uuid": "d391b605befe2869db06e8df854473943e44a266"
      },
      "cell_type": "code",
      "source": "centered_price = reviews.price - reviews.price.mean()\n\nq4.check()",
      "execution_count": 34,
      "outputs": [
        {
          "output_type": "display_data",
          "data": {
            "text/plain": "<IPython.core.display.Javascript object>",
            "application/javascript": "parent.postMessage({\"jupyterEvent\": \"custom.exercise_interaction\", \"data\": {\"outcomeType\": 1, \"valueTowardsCompletion\": 0.14285714285714285, \"interactionType\": 1, \"learnTutorialId\": 47, \"questionId\": \"4_CenteredPrice\", \"learnToolsVersion\": \"0.2.10\", \"failureMessage\": \"\", \"exceptionClass\": \"\", \"trace\": \"\"}}, \"*\")"
          },
          "metadata": {}
        },
        {
          "output_type": "display_data",
          "data": {
            "text/plain": "Correct",
            "text/markdown": "<span style=\"color:#33cc33\">Correct</span>"
          },
          "metadata": {}
        }
      ]
    },
    {
      "metadata": {
        "trusted": true,
        "_uuid": "bb80e61c3fa7c885c2cd75fd2d9da5169d3ba5b2"
      },
      "cell_type": "code",
      "source": "#q4.hint()\n#q4.solution()",
      "execution_count": 35,
      "outputs": []
    },
    {
      "metadata": {
        "_uuid": "0db9c1dab0471f6f3b85f47db8f93a7659c68b63"
      },
      "cell_type": "markdown",
      "source": "## 5.\nI'm an economical wine buyer. Which wine is the \"best bargain\"? Create a variable `bargain_wine` with the title of the wine with the highest points-to-price ratio in the dataset."
    },
    {
      "metadata": {
        "trusted": true,
        "_uuid": "ddafde475f063f38ce49e7d00ae2073c01e235cd"
      },
      "cell_type": "code",
      "source": "m = (reviews.points/reviews.price).idxmax()\nbargain_wine = reviews.loc[m].title\n\nq5.check()",
      "execution_count": 37,
      "outputs": [
        {
          "output_type": "display_data",
          "data": {
            "text/plain": "<IPython.core.display.Javascript object>",
            "application/javascript": "parent.postMessage({\"jupyterEvent\": \"custom.exercise_interaction\", \"data\": {\"outcomeType\": 1, \"valueTowardsCompletion\": 0.14285714285714285, \"interactionType\": 1, \"learnTutorialId\": 47, \"questionId\": \"5_BargainWine\", \"learnToolsVersion\": \"0.2.10\", \"failureMessage\": \"\", \"exceptionClass\": \"\", \"trace\": \"\"}}, \"*\")"
          },
          "metadata": {}
        },
        {
          "output_type": "display_data",
          "data": {
            "text/plain": "Correct",
            "text/markdown": "<span style=\"color:#33cc33\">Correct</span>"
          },
          "metadata": {}
        }
      ]
    },
    {
      "metadata": {
        "trusted": true,
        "_uuid": "a1806c5c34e75e5355abff5bceecda30bfcc591f"
      },
      "cell_type": "code",
      "source": "#q5.hint()\n#q5.solution()",
      "execution_count": 21,
      "outputs": []
    },
    {
      "metadata": {
        "_uuid": "99c84726ece496e58544283e0876a3e48bd26dfa"
      },
      "cell_type": "markdown",
      "source": "## 6.\nThere are only so many words you can use when describing a bottle of wine. Is a wine more likely to be \"tropical\" or \"fruity\"? Create a Series `descriptor_counts` counting how many times each of these two words appears in the `description` column in the dataset."
    },
    {
      "metadata": {
        "trusted": true,
        "_uuid": "82e1c2e96122cd623636f8d1e0e6fc1fe86fed9e"
      },
      "cell_type": "code",
      "source": "tropical = reviews.description.map(lambda d: 'tropical' in d).value_counts()\nfruity = reviews.description.map(lambda d: 'fruity' in d).value_counts()\ndescriptor_counts = pd.Series([tropical[True],fruity[True]], index=['tropical', 'fruity'])\n\nq6.check()",
      "execution_count": 40,
      "outputs": [
        {
          "output_type": "display_data",
          "data": {
            "text/plain": "<IPython.core.display.Javascript object>",
            "application/javascript": "parent.postMessage({\"jupyterEvent\": \"custom.exercise_interaction\", \"data\": {\"outcomeType\": 1, \"valueTowardsCompletion\": 0.14285714285714285, \"interactionType\": 1, \"learnTutorialId\": 47, \"questionId\": \"6_DescriptorCounts\", \"learnToolsVersion\": \"0.2.10\", \"failureMessage\": \"\", \"exceptionClass\": \"\", \"trace\": \"\"}}, \"*\")"
          },
          "metadata": {}
        },
        {
          "output_type": "display_data",
          "data": {
            "text/plain": "Correct",
            "text/markdown": "<span style=\"color:#33cc33\">Correct</span>"
          },
          "metadata": {}
        }
      ]
    },
    {
      "metadata": {
        "trusted": false,
        "_uuid": "de40ed4bfdcd03703b4e85bd3eb8f3903de5e00a"
      },
      "cell_type": "code",
      "source": "#q6.hint()\n#q6.solution()",
      "execution_count": null,
      "outputs": []
    },
    {
      "metadata": {
        "_uuid": "d6e8c5a3b77b5b6934f24a57eaa1d6b5286987f5"
      },
      "cell_type": "markdown",
      "source": "## 7.\nWe'd like to host these wine reviews on our website, but a rating system ranging from 80 to 100 points is too hard to understand - we'd like to translate them into simple star ratings. A score of 95 or higher counts as 3 stars, a score of at least 85 but less than 95 is 2 stars. Any other score is 1 star.\n\nAlso, the Canadian Vintners Association bought a lot of ads on the site, so any wines from Canada should automatically get 3 stars, regardless of points.\n\nCreate a series `star_ratings` with the number of stars corresponding to each review in the dataset."
    },
    {
      "metadata": {
        "trusted": false,
        "_uuid": "9fb572b719c886d9032cdca8634216c4bc5201c1"
      },
      "cell_type": "code",
      "source": "star_ratings = ____\n\nq7.check()",
      "execution_count": null,
      "outputs": []
    },
    {
      "metadata": {
        "trusted": false,
        "_uuid": "ddac3527b7814ae6f51d517ae887b957e066eab2"
      },
      "cell_type": "code",
      "source": "#q7.hint()\n#q7.solution()",
      "execution_count": null,
      "outputs": []
    },
    {
      "metadata": {
        "_uuid": "7aeaba81a523624b17ddf427c2ffb43116944cd7"
      },
      "cell_type": "markdown",
      "source": "# Keep going\nContinue to **[grouping and sorting](https://www.kaggle.com/kernels/fork/598715)**."
    },
    {
      "metadata": {
        "_uuid": "7e9af07321895c419b89a6b39d147d6d1c159d16"
      },
      "cell_type": "markdown",
      "source": "---\n**[Pandas Course Home Page](https://www.kaggle.com/learn/pandas)**\n\n"
    }
  ],
  "metadata": {
    "kernelspec": {
      "display_name": "Python 3",
      "language": "python",
      "name": "python3"
    },
    "language_info": {
      "name": "python",
      "version": "3.6.6",
      "mimetype": "text/x-python",
      "codemirror_mode": {
        "name": "ipython",
        "version": 3
      },
      "pygments_lexer": "ipython3",
      "nbconvert_exporter": "python",
      "file_extension": ".py"
    }
  },
  "nbformat": 4,
  "nbformat_minor": 1
}