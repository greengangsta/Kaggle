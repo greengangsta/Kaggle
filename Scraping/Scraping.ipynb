{
 "cells": [
  {
   "cell_type": "code",
   "execution_count": 3,
   "metadata": {},
   "outputs": [],
   "source": [
    "import json\n",
    "from bs4 import BeautifulSoup\n",
    "import requests \n",
    "import boto3"
   ]
  },
  {
   "cell_type": "code",
   "execution_count": 44,
   "metadata": {},
   "outputs": [],
   "source": [
    "def scraping_func(url, field):\n",
    "    response = requests.get(url = url)\n",
    "    data = response.text\n",
    "    #print(data) \n",
    "    soup = BeautifulSoup(data, 'html.parser')\n",
    "    value = soup.find(field).get_text()\n",
    "    print(value)"
   ]
  },
  {
   "cell_type": "code",
   "execution_count": 41,
   "metadata": {},
   "outputs": [
    {
     "name": "stdout",
     "output_type": "stream",
     "text": [
      "API Strategy/Principles — Guide to API economy - Anuj Agarwal - Medium\n"
     ]
    }
   ],
   "source": [
    "scraping_func(\"https://medium.com/@anujagarwal_CTO/api-strategy-principles-guide-to-api-economy-b437f37b1b8a\",\"title\")"
   ]
  },
  {
   "cell_type": "code",
   "execution_count": 46,
   "metadata": {},
   "outputs": [
    {
     "name": "stdout",
     "output_type": "stream",
     "text": [
      "<html><head>\n",
      "<script type=\"text/javascript\">\n",
      "window.onload = function() {\n",
      "  // Parse the tracking code from cookies.\n",
      "  var trk = \"bf\";\n",
      "  var trkInfo = \"bf\";\n",
      "  var cookies = document.cookie.split(\"; \");\n",
      "  for (var i = 0; i < cookies.length; ++i) {\n",
      "    if ((cookies[i].indexOf(\"trkCode=\") == 0) && (cookies[i].length > 8)) {\n",
      "      trk = cookies[i].substring(8);\n",
      "    }\n",
      "    else if ((cookies[i].indexOf(\"trkInfo=\") == 0) && (cookies[i].length > 8)) {\n",
      "      trkInfo = cookies[i].substring(8);\n",
      "    }\n",
      "  }\n",
      "\n",
      "  if (window.location.protocol == \"http:\") {\n",
      "    // If \"sl\" cookie is set, redirect to https.\n",
      "    for (var i = 0; i < cookies.length; ++i) {\n",
      "      if ((cookies[i].indexOf(\"sl=\") == 0) && (cookies[i].length > 3)) {\n",
      "        window.location.href = \"https:\" + window.location.href.substring(window.location.protocol.length);\n",
      "        return;\n",
      "      }\n",
      "    }\n",
      "  }\n",
      "\n",
      "  // Get the new domain. For international domains such as\n",
      "  // fr.linkedin.com, we convert it to www.linkedin.com\n",
      "  var domain = \"www.linkedin.com\";\n",
      "  if (domain != location.host) {\n",
      "    var subdomainIndex = location.host.indexOf(\".linkedin\");\n",
      "    if (subdomainIndex != -1) {\n",
      "      domain = \"www\" + location.host.substring(subdomainIndex);\n",
      "    }\n",
      "  }\n",
      "\n",
      "  window.location.href = \"https://\" + domain + \"/authwall?trk=\" + trk + \"&trkInfo=\" + trkInfo +\n",
      "      \"&originalReferer=\" + document.referrer.substr(0, 200) +\n",
      "      \"&sessionRedirect=\" + encodeURIComponent(window.location.href);\n",
      "}\n",
      "</script>\n",
      "</head></html>\n"
     ]
    },
    {
     "ename": "AttributeError",
     "evalue": "'NoneType' object has no attribute 'get_text'",
     "output_type": "error",
     "traceback": [
      "\u001b[1;31m---------------------------------------------------------------------------\u001b[0m",
      "\u001b[1;31mAttributeError\u001b[0m                            Traceback (most recent call last)",
      "\u001b[1;32m<ipython-input-46-e65272f9a0dc>\u001b[0m in \u001b[0;36m<module>\u001b[1;34m\u001b[0m\n\u001b[1;32m----> 1\u001b[1;33m \u001b[0mscraping_func\u001b[0m\u001b[1;33m(\u001b[0m\u001b[1;34m\"https://www.linkedin.com/in/rajeshagrawaluk/\"\u001b[0m\u001b[1;33m,\u001b[0m\u001b[1;34m\"title\"\u001b[0m\u001b[1;33m)\u001b[0m\u001b[1;33m\u001b[0m\u001b[1;33m\u001b[0m\u001b[0m\n\u001b[0m",
      "\u001b[1;32m<ipython-input-44-536e25874db6>\u001b[0m in \u001b[0;36mscraping_func\u001b[1;34m(url, field)\u001b[0m\n\u001b[0;32m      4\u001b[0m     \u001b[0mprint\u001b[0m\u001b[1;33m(\u001b[0m\u001b[0mdata\u001b[0m\u001b[1;33m)\u001b[0m\u001b[1;33m\u001b[0m\u001b[1;33m\u001b[0m\u001b[0m\n\u001b[0;32m      5\u001b[0m     \u001b[0msoup\u001b[0m \u001b[1;33m=\u001b[0m \u001b[0mBeautifulSoup\u001b[0m\u001b[1;33m(\u001b[0m\u001b[0mdata\u001b[0m\u001b[1;33m,\u001b[0m \u001b[1;34m'html.parser'\u001b[0m\u001b[1;33m)\u001b[0m\u001b[1;33m\u001b[0m\u001b[1;33m\u001b[0m\u001b[0m\n\u001b[1;32m----> 6\u001b[1;33m     \u001b[0mvalue\u001b[0m \u001b[1;33m=\u001b[0m \u001b[0msoup\u001b[0m\u001b[1;33m.\u001b[0m\u001b[0mfind\u001b[0m\u001b[1;33m(\u001b[0m\u001b[0mfield\u001b[0m\u001b[1;33m)\u001b[0m\u001b[1;33m.\u001b[0m\u001b[0mget_text\u001b[0m\u001b[1;33m(\u001b[0m\u001b[1;33m)\u001b[0m\u001b[1;33m\u001b[0m\u001b[1;33m\u001b[0m\u001b[0m\n\u001b[0m\u001b[0;32m      7\u001b[0m     \u001b[0mprint\u001b[0m\u001b[1;33m(\u001b[0m\u001b[0mvalue\u001b[0m\u001b[1;33m)\u001b[0m\u001b[1;33m\u001b[0m\u001b[1;33m\u001b[0m\u001b[0m\n",
      "\u001b[1;31mAttributeError\u001b[0m: 'NoneType' object has no attribute 'get_text'"
     ]
    }
   ],
   "source": [
    "scraping_func(\"https://www.linkedin.com/in/rajeshagrawaluk/\",\"title\")"
   ]
  },
  {
   "cell_type": "code",
   "execution_count": null,
   "metadata": {},
   "outputs": [],
   "source": []
  }
 ],
 "metadata": {
  "kernelspec": {
   "display_name": "Python 3",
   "language": "python",
   "name": "python3"
  },
  "language_info": {
   "codemirror_mode": {
    "name": "ipython",
    "version": 3
   },
   "file_extension": ".py",
   "mimetype": "text/x-python",
   "name": "python",
   "nbconvert_exporter": "python",
   "pygments_lexer": "ipython3",
   "version": "3.6.8"
  }
 },
 "nbformat": 4,
 "nbformat_minor": 2
}
